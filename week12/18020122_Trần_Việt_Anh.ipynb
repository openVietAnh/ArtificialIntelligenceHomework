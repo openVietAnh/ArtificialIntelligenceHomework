{
  "nbformat": 4,
  "nbformat_minor": 0,
  "metadata": {
    "accelerator": "GPU",
    "colab": {
      "name": "18020122 - Trần Việt Anh.ipynb",
      "provenance": [],
      "collapsed_sections": []
    },
    "kernelspec": {
      "display_name": "Python 3",
      "name": "python3"
    },
    "language_info": {
      "name": "python"
    }
  },
  "cells": [
    {
      "cell_type": "code",
      "metadata": {
        "id": "F9nA3Fkab_Vp"
      },
      "source": [
        "import tensorflow as tf\n",
        "import numpy as np\n",
        "from tensorflow import keras\n",
        "from tensorflow.keras import layers, models, regularizers, optimizers\n",
        "from tensorflow.keras.datasets import fashion_mnist\n",
        "from sklearn.model_selection import train_test_split\n",
        "from tensorflow.keras.utils import to_categorical"
      ],
      "execution_count": 1,
      "outputs": []
    },
    {
      "cell_type": "code",
      "metadata": {
        "colab": {
          "base_uri": "https://localhost:8080/"
        },
        "id": "ExtzQShier9J",
        "outputId": "997472a1-b9b6-49d2-f04b-14b6940f44ad"
      },
      "source": [
        "(train_values, train_lables), (test_values, test_lables) = fashion_mnist.load_data()\n",
        "train_values, val_values, train_lables, val_labels = train_test_split(train_values, train_lables, test_size=0.2)\n",
        "print(train_values.shape, train_lables.shape)\n",
        "print(val_values.shape, val_labels.shape)\n",
        "print(test_values.shape, test_lables.shape)\n",
        "print(train_lables[10000])"
      ],
      "execution_count": 2,
      "outputs": [
        {
          "output_type": "stream",
          "name": "stdout",
          "text": [
            "Downloading data from https://storage.googleapis.com/tensorflow/tf-keras-datasets/train-labels-idx1-ubyte.gz\n",
            "32768/29515 [=================================] - 0s 0us/step\n",
            "40960/29515 [=========================================] - 0s 0us/step\n",
            "Downloading data from https://storage.googleapis.com/tensorflow/tf-keras-datasets/train-images-idx3-ubyte.gz\n",
            "26427392/26421880 [==============================] - 0s 0us/step\n",
            "26435584/26421880 [==============================] - 0s 0us/step\n",
            "Downloading data from https://storage.googleapis.com/tensorflow/tf-keras-datasets/t10k-labels-idx1-ubyte.gz\n",
            "16384/5148 [===============================================================================================] - 0s 0us/step\n",
            "Downloading data from https://storage.googleapis.com/tensorflow/tf-keras-datasets/t10k-images-idx3-ubyte.gz\n",
            "4423680/4422102 [==============================] - 0s 0us/step\n",
            "4431872/4422102 [==============================] - 0s 0us/step\n",
            "(48000, 28, 28) (48000,)\n",
            "(12000, 28, 28) (12000,)\n",
            "(10000, 28, 28) (10000,)\n",
            "6\n"
          ]
        }
      ]
    },
    {
      "cell_type": "code",
      "metadata": {
        "colab": {
          "base_uri": "https://localhost:8080/"
        },
        "id": "s0cE3HE_CI2x",
        "outputId": "38e268bb-1123-4350-83a9-42443d5d820e"
      },
      "source": [
        "model = models.Sequential([\n",
        "    layers.Conv2D(4, (2, 2), activation = 'linear', input_shape = (28,28,1)),\n",
        "    layers.MaxPool2D((1, 1)),\n",
        "    layers.Conv2D(128, (6, 6), activation = 'relu'),\n",
        "    layers.MaxPool2D((1, 1)),\n",
        "    layers.Conv2D(256, (5, 5), activation = 'relu'),\n",
        "    layers.MaxPool2D((6, 6)),\n",
        "    layers.Flatten(),\n",
        "    layers.Dense(128, kernel_regularizer=regularizers.L1(1e-4), activation= 'linear'),\n",
        "    layers.Dropout(0.5)])\n",
        "last_shape = model.layers[-1].output_shape\n",
        "model.add(layers.Reshape((last_shape[1] // 2, 2), input_shape=last_shape))\n",
        "model.add(layers.SimpleRNN(32, kernel_regularizer=regularizers.L1(1e-4), activation= 'linear'))\n",
        "model.add(layers.Dense(10))\n",
        "model.summary()"
      ],
      "execution_count": 3,
      "outputs": [
        {
          "output_type": "stream",
          "name": "stdout",
          "text": [
            "Model: \"sequential\"\n",
            "_________________________________________________________________\n",
            " Layer (type)                Output Shape              Param #   \n",
            "=================================================================\n",
            " conv2d (Conv2D)             (None, 27, 27, 4)         20        \n",
            "                                                                 \n",
            " max_pooling2d (MaxPooling2D  (None, 27, 27, 4)        0         \n",
            " )                                                               \n",
            "                                                                 \n",
            " conv2d_1 (Conv2D)           (None, 22, 22, 128)       18560     \n",
            "                                                                 \n",
            " max_pooling2d_1 (MaxPooling  (None, 22, 22, 128)      0         \n",
            " 2D)                                                             \n",
            "                                                                 \n",
            " conv2d_2 (Conv2D)           (None, 18, 18, 256)       819456    \n",
            "                                                                 \n",
            " max_pooling2d_2 (MaxPooling  (None, 3, 3, 256)        0         \n",
            " 2D)                                                             \n",
            "                                                                 \n",
            " flatten (Flatten)           (None, 2304)              0         \n",
            "                                                                 \n",
            " dense (Dense)               (None, 128)               295040    \n",
            "                                                                 \n",
            " dropout (Dropout)           (None, 128)               0         \n",
            "                                                                 \n",
            " reshape (Reshape)           (None, 64, 2)             0         \n",
            "                                                                 \n",
            " simple_rnn (SimpleRNN)      (None, 32)                1120      \n",
            "                                                                 \n",
            " dense_1 (Dense)             (None, 10)                330       \n",
            "                                                                 \n",
            "=================================================================\n",
            "Total params: 1,134,526\n",
            "Trainable params: 1,134,526\n",
            "Non-trainable params: 0\n",
            "_________________________________________________________________\n"
          ]
        }
      ]
    },
    {
      "cell_type": "code",
      "metadata": {
        "id": "fLkmDLsUDg-C"
      },
      "source": [
        "adaMax = optimizers.Adamax(learning_rate=0.001)\n",
        "model.compile(optimizer=adaMax, loss=tf.keras.losses.CategoricalCrossentropy(from_logits=True), metrics='accuracy')"
      ],
      "execution_count": 4,
      "outputs": []
    },
    {
      "cell_type": "code",
      "metadata": {
        "colab": {
          "base_uri": "https://localhost:8080/"
        },
        "id": "Kd1im7d6EKuN",
        "outputId": "b99d472c-57f3-4426-8aac-e8d8c6345d4a"
      },
      "source": [
        "y_train = to_categorical(train_lables)\n",
        "y_test = to_categorical(val_labels)\n",
        "history = model.fit(train_values, y_train, epochs=15, validation_data=(val_values, y_test), batch_size=25)"
      ],
      "execution_count": 5,
      "outputs": [
        {
          "output_type": "stream",
          "name": "stdout",
          "text": [
            "Epoch 1/15\n",
            "1920/1920 [==============================] - 95s 45ms/step - loss: 2.4979 - accuracy: 0.7837 - val_loss: 1.1456 - val_accuracy: 0.8576\n",
            "Epoch 2/15\n",
            "1920/1920 [==============================] - 82s 43ms/step - loss: 1.1738 - accuracy: 0.8400 - val_loss: 1.0542 - val_accuracy: 0.8575\n",
            "Epoch 3/15\n",
            "1920/1920 [==============================] - 82s 43ms/step - loss: 1.0141 - accuracy: 0.8563 - val_loss: 0.8734 - val_accuracy: 0.8783\n",
            "Epoch 4/15\n",
            "1920/1920 [==============================] - 84s 44ms/step - loss: 0.7857 - accuracy: 0.8723 - val_loss: 0.6751 - val_accuracy: 0.8726\n",
            "Epoch 5/15\n",
            "1920/1920 [==============================] - 82s 43ms/step - loss: 0.5883 - accuracy: 0.8854 - val_loss: 0.5256 - val_accuracy: 0.8885\n",
            "Epoch 6/15\n",
            "1920/1920 [==============================] - 84s 44ms/step - loss: 0.4796 - accuracy: 0.8963 - val_loss: 0.4520 - val_accuracy: 0.8954\n",
            "Epoch 7/15\n",
            "1920/1920 [==============================] - 85s 44ms/step - loss: 0.4205 - accuracy: 0.9037 - val_loss: 0.4240 - val_accuracy: 0.8964\n",
            "Epoch 8/15\n",
            "1920/1920 [==============================] - 83s 43ms/step - loss: 0.3727 - accuracy: 0.9129 - val_loss: 0.3961 - val_accuracy: 0.9041\n",
            "Epoch 9/15\n",
            "1920/1920 [==============================] - 83s 43ms/step - loss: 0.3388 - accuracy: 0.9229 - val_loss: 0.3903 - val_accuracy: 0.9045\n",
            "Epoch 10/15\n",
            "1920/1920 [==============================] - 82s 43ms/step - loss: 0.3101 - accuracy: 0.9298 - val_loss: 0.4069 - val_accuracy: 0.8983\n",
            "Epoch 11/15\n",
            "1920/1920 [==============================] - 82s 43ms/step - loss: 0.2820 - accuracy: 0.9366 - val_loss: 0.4073 - val_accuracy: 0.8969\n",
            "Epoch 12/15\n",
            "1920/1920 [==============================] - 82s 43ms/step - loss: 0.2615 - accuracy: 0.9433 - val_loss: 0.4010 - val_accuracy: 0.8995\n",
            "Epoch 13/15\n",
            "1920/1920 [==============================] - 83s 43ms/step - loss: 0.2432 - accuracy: 0.9473 - val_loss: 0.4401 - val_accuracy: 0.8933\n",
            "Epoch 14/15\n",
            "1920/1920 [==============================] - 83s 43ms/step - loss: 0.2225 - accuracy: 0.9554 - val_loss: 0.4427 - val_accuracy: 0.8938\n",
            "Epoch 15/15\n",
            "1920/1920 [==============================] - 83s 43ms/step - loss: 0.2060 - accuracy: 0.9592 - val_loss: 0.4219 - val_accuracy: 0.9021\n"
          ]
        }
      ]
    },
    {
      "cell_type": "code",
      "metadata": {
        "colab": {
          "base_uri": "https://localhost:8080/",
          "height": 590
        },
        "id": "GNKfDAYhE1ja",
        "outputId": "d6601e6d-69ff-4402-d31e-9d9ab2b2f46e"
      },
      "source": [
        "import matplotlib.pyplot as plt\n",
        "print(history.history.keys())\n",
        "#  \"Accuracy\"\n",
        "plt.plot(history.history['accuracy'])\n",
        "plt.plot(history.history['val_accuracy'])\n",
        "plt.title('model accuracy')\n",
        "plt.ylabel('accuracy')\n",
        "plt.xlabel('epoch')\n",
        "plt.legend(['train', 'validation'], loc='upper left')\n",
        "plt.show()\n",
        "# \"Loss\"\n",
        "plt.plot(history.history['loss'])\n",
        "plt.plot(history.history['val_loss'])\n",
        "plt.title('model loss')\n",
        "plt.ylabel('loss')\n",
        "plt.xlabel('epoch')\n",
        "plt.legend(['train', 'validation'], loc='upper left')\n",
        "plt.show()"
      ],
      "execution_count": 6,
      "outputs": [
        {
          "output_type": "stream",
          "name": "stdout",
          "text": [
            "dict_keys(['loss', 'accuracy', 'val_loss', 'val_accuracy'])\n"
          ]
        },
        {
          "output_type": "display_data",
          "data": {
            "image/png": "[encoded data removed]",
            "text/plain": [
              "<Figure size 432x288 with 1 Axes>"
            ]
          },
          "metadata": {
            "needs_background": "light"
          }
        },
        {
          "output_type": "display_data",
          "data": {
            "image/png": "[encoded data removed]",
            "text/plain": [
              "<Figure size 432x288 with 1 Axes>"
            ]
          },
          "metadata": {
            "needs_background": "light"
          }
        }
      ]
    },
    {
      "cell_type": "code",
      "metadata": {
        "colab": {
          "base_uri": "https://localhost:8080/"
        },
        "id": "ZeltPAXvw_8b",
        "outputId": "134fe878-d6c2-40e2-fafe-8cff104f86b6"
      },
      "source": [
        "one_hot_encoded_lables = to_categorical(test_lables)\n",
        "model.evaluate(test_values, one_hot_encoded_lables, batch_size=25)"
      ],
      "execution_count": 8,
      "outputs": [
        {
          "output_type": "stream",
          "name": "stdout",
          "text": [
            "400/400 [==============================] - 3s 7ms/step - loss: 0.4486 - accuracy: 0.9016\n"
          ]
        },
        {
          "output_type": "execute_result",
          "data": {
            "text/plain": [
              "[0.4486106038093567, 0.9016000032424927]"
            ]
          },
          "metadata": {},
          "execution_count": 8
        }
      ]
    },
    {
      "cell_type": "code",
      "metadata": {
        "id": "Zvcipoe4_K3S"
      },
      "source": [
        ""
      ],
      "execution_count": null,
      "outputs": []
    }
  ]
}